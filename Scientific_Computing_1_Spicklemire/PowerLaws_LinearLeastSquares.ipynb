{
 "cells": [
  {
   "cell_type": "code",
   "execution_count": 21,
   "id": "61c76659-35e3-4c59-b151-b488c444f07b",
   "metadata": {},
   "outputs": [],
   "source": [
    "import numpy as np\n",
    "import matplotlib.pyplot as plt\n",
    "import seaborn as sns\n",
    "sns.set_style('darkgrid')"
   ]
  },
  {
   "cell_type": "markdown",
   "id": "2e222f35-073f-4405-a574-21ef5c0c2046",
   "metadata": {},
   "source": [
    "Suppose you have data$=[\\vec{x}, \\vec{y}]$ collected by some apparatus"
   ]
  },
  {
   "cell_type": "code",
   "execution_count": 22,
   "id": "1b2c842f-e66e-46f9-af3c-2d3ae4468f03",
   "metadata": {},
   "outputs": [
    {
     "data": {
      "text/plain": [
       "<matplotlib.collections.PathCollection at 0x7f92bf56a310>"
      ]
     },
     "execution_count": 22,
     "metadata": {},
     "output_type": "execute_result"
    },
    {
     "data": {
      "image/png": "[encoded data removed]",
      "text/plain": [
       "<Figure size 432x288 with 1 Axes>"
      ]
     },
     "metadata": {},
     "output_type": "display_data"
    }
   ],
   "source": [
    "x = np.linspace(0,10, 100)\n",
    "plt.xlabel('x')\n",
    "y=  x + np.random.randn(100)\n",
    "plt.ylabel('y')\n",
    "plt.scatter(x,y)"
   ]
  },
  {
   "cell_type": "markdown",
   "id": "7ff5d68a-5538-43f8-af3e-495cffe59dd7",
   "metadata": {},
   "source": [
    "You want to fit a model to this data. You assume your model that best fits the data is a linear one so that, say you have one data point $y(x) = m x + b$ but since you have a vector $\\vec{x}$, you have a vector of length $x$ as a vector $m$, so that the model is \n",
    "$$\\vec{y*} = M \\vec{\\alpha}$$ where $M$ is an $N\\times M$ matrix, where $N$ is the number of data points and $M$ is the number of parameters per data point (here, it's 2: m and b). \n",
    "\n",
    "The first column of $M$ is the first law of $x$ in our model, which is just $x$, the second column is the second power of $x$ in our column, so the second column is a vector of 1's. "
   ]
  },
  {
   "cell_type": "code",
   "execution_count": 30,
   "id": "b7cdca56-51c6-4da0-9fb3-34b3f0dfcbc2",
   "metadata": {},
   "outputs": [
    {
     "name": "stdout",
     "output_type": "stream",
     "text": [
      "[[ 0.          0.1010101   0.2020202   0.3030303   0.4040404   0.50505051\n",
      "   0.60606061  0.70707071  0.80808081  0.90909091  1.01010101  1.11111111\n",
      "   1.21212121  1.31313131  1.41414141  1.51515152  1.61616162  1.71717172\n",
      "   1.81818182  1.91919192  2.02020202  2.12121212  2.22222222  2.32323232\n",
      "   2.42424242  2.52525253  2.62626263  2.72727273  2.82828283  2.92929293\n",
      "   3.03030303  3.13131313  3.23232323  3.33333333  3.43434343  3.53535354\n",
      "   3.63636364  3.73737374  3.83838384  3.93939394  4.04040404  4.14141414\n",
      "   4.24242424  4.34343434  4.44444444  4.54545455  4.64646465  4.74747475\n",
      "   4.84848485  4.94949495  5.05050505  5.15151515  5.25252525  5.35353535\n",
      "   5.45454545  5.55555556  5.65656566  5.75757576  5.85858586  5.95959596\n",
      "   6.06060606  6.16161616  6.26262626  6.36363636  6.46464646  6.56565657\n",
      "   6.66666667  6.76767677  6.86868687  6.96969697  7.07070707  7.17171717\n",
      "   7.27272727  7.37373737  7.47474747  7.57575758  7.67676768  7.77777778\n",
      "   7.87878788  7.97979798  8.08080808  8.18181818  8.28282828  8.38383838\n",
      "   8.48484848  8.58585859  8.68686869  8.78787879  8.88888889  8.98989899\n",
      "   9.09090909  9.19191919  9.29292929  9.39393939  9.49494949  9.5959596\n",
      "   9.6969697   9.7979798   9.8989899  10.        ]\n",
      " [ 1.          1.          1.          1.          1.          1.\n",
      "   1.          1.          1.          1.          1.          1.\n",
      "   1.          1.          1.          1.          1.          1.\n",
      "   1.          1.          1.          1.          1.          1.\n",
      "   1.          1.          1.          1.          1.          1.\n",
      "   1.          1.          1.          1.          1.          1.\n",
      "   1.          1.          1.          1.          1.          1.\n",
      "   1.          1.          1.          1.          1.          1.\n",
      "   1.          1.          1.          1.          1.          1.\n",
      "   1.          1.          1.          1.          1.          1.\n",
      "   1.          1.          1.          1.          1.          1.\n",
      "   1.          1.          1.          1.          1.          1.\n",
      "   1.          1.          1.          1.          1.          1.\n",
      "   1.          1.          1.          1.          1.          1.\n",
      "   1.          1.          1.          1.          1.          1.\n",
      "   1.          1.          1.          1.          1.          1.\n",
      "   1.          1.          1.          1.        ]] (2, 100)\n"
     ]
    }
   ],
   "source": [
    "M = np.array([x, np.ones(x.shape)]); print(M, M.shape)"
   ]
  },
  {
   "cell_type": "markdown",
   "id": "135f730b-a043-45a5-a7cc-1328e9863959",
   "metadata": {},
   "source": [
    "now alpha is $M \\times 1$ column of parameter values that you want to fit. We use $\\chi^2$ as the figure of merit, to see the column of parameter values that best fits the data. It tells you that (it's easy to see why)\n",
    "\n",
    "$$\\chi^2 = ( \\vec{y} - \\vec{y*}(\\vec{x}))^T S (\\vec{y} -\\vec{y*}(\\vec{x}))$$\n",
    "$$\\chi^2 = (\\vec{y}-M \\vec{\\alpha})^T S (\\vec{y}-M \\vec{\\alpha})                                     (1)$$\n",
    "\n",
    "where $S$ is $N\\times N$ matrix, whose diagonals are $1/\\sigma_i^2$. This is exactly $\\chi^2 = \\sum_{i=1}^N = \\frac{(y_i - y_i^*)^2}{\\sigma_i^2}$, where we take the difference between the model and data squared, thereby penalizing large-difference models since the difference squared will be very large, also, since the $\\sigma^2$ is in the denominator, such that we favor small-variance models.\n",
    "\n",
    "Then equation we can find the best-fit values from (1) by minimizing it, i.e by taking the derivative $\\frac{\\partial \\chi^2}{\\partial \\alpha} = 0$ (in scalar case) or gradient (in vector case) and setting it to zero $\\nabla_\\alpha \\chi^2 = 0$\n",
    "\n",
    "$$\\nabla_\\alpha (\\vec{y}-M \\vec{\\alpha})^T S (\\vec{y}-M \\vec{\\alpha}) = 0$$\n",
    "$$ (\\vec{y}-M \\vec{\\alpha})^T S \\nabla_\\alpha (\\vec{y}-M \\vec{\\alpha}) +(\\vec{y}-M \\vec{\\alpha}) \\nabla_\\alpha (\\vec{y}-M \\vec{\\alpha})^T=0$$\n"
   ]
  },
  {
   "cell_type": "code",
   "execution_count": 13,
   "id": "3b33693f-bc29-48a2-bbd5-1abe08ed1e0d",
   "metadata": {},
   "outputs": [
    {
     "data": {
      "text/plain": [
       "(array([100., 100., 100., 100., 100., 100., 100., 100., 100., 100.]),\n",
       " array([  0.,  20.,  40.,  60.,  80., 100., 120., 140., 160., 180., 200.]),\n",
       " <BarContainer object of 10 artists>)"
      ]
     },
     "execution_count": 13,
     "metadata": {},
     "output_type": "execute_result"
    },
    {
     "data": {
      "image/png": "[encoded data removed]",
      "text/plain": [
       "<Figure size 432x288 with 1 Axes>"
      ]
     },
     "metadata": {
      "needs_background": "light"
     },
     "output_type": "display_data"
    }
   ],
   "source": [
    "plt.hist(x)"
   ]
  },
  {
   "cell_type": "code",
   "execution_count": null,
   "id": "16d4d8ad-a103-4851-b3f7-c6e4edb87770",
   "metadata": {},
   "outputs": [],
   "source": []
  }
 ],
 "metadata": {
  "kernelspec": {
   "display_name": "Python 3 (ipykernel)",
   "language": "python",
   "name": "python3"
  },
  "language_info": {
   "codemirror_mode": {
    "name": "ipython",
    "version": 3
   },
   "file_extension": ".py",
   "mimetype": "text/x-python",
   "name": "python",
   "nbconvert_exporter": "python",
   "pygments_lexer": "ipython3",
   "version": "3.7.7"
  }
 },
 "nbformat": 4,
 "nbformat_minor": 5
}
